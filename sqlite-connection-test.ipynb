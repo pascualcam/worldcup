{
 "cells": [
  {
   "cell_type": "code",
   "execution_count": 5,
   "id": "17211eb8-29a2-484f-a4ec-bb8b08004cc4",
   "metadata": {},
   "outputs": [],
   "source": [
    "import sqlite3\n",
    "import pandas as pd\n",
    "import numpy as np"
   ]
  },
  {
   "cell_type": "code",
   "execution_count": 8,
   "id": "01764976-0cf2-4fc5-8c61-d939ccbc5cce",
   "metadata": {},
   "outputs": [],
   "source": [
    "connection = sqlite3.connect(\"data-sqlite/worldcup.db\")\n",
    "cursor = connection.cursor()"
   ]
  },
  {
   "cell_type": "code",
   "execution_count": 9,
   "id": "0fa7e993-6806-4d12-b790-869feb34f5da",
   "metadata": {},
   "outputs": [],
   "source": [
    "res = cursor.execute(\"SELECT year FROM tournaments\")"
   ]
  },
  {
   "cell_type": "code",
   "execution_count": 15,
   "id": "4d52449c-866e-4b67-8c5e-39b2c587ecc5",
   "metadata": {},
   "outputs": [
    {
     "name": "stdout",
     "output_type": "stream",
     "text": [
      "('Union of European Football Associations',)\n",
      "('South American Football Confederation',)\n",
      "('Oceania Football Confederation',)\n",
      "('Confederation of North, Central American and Caribbean Association Football',)\n",
      "('Confederation of African Football',)\n",
      "('Asian Football Confederation',)\n"
     ]
    }
   ],
   "source": [
    "for row in cursor.execute(\"SELECT confederation_name FROM confederations ORDER BY confederation_name DESC\"):\n",
    "    print(row)"
   ]
  },
  {
   "cell_type": "code",
   "execution_count": null,
   "id": "7a50367a-b4f1-4b2d-8842-b7a69085965b",
   "metadata": {},
   "outputs": [],
   "source": []
  }
 ],
 "metadata": {
  "kernelspec": {
   "display_name": "Python 3 (ipykernel)",
   "language": "python",
   "name": "python3"
  },
  "language_info": {
   "codemirror_mode": {
    "name": "ipython",
    "version": 3
   },
   "file_extension": ".py",
   "mimetype": "text/x-python",
   "name": "python",
   "nbconvert_exporter": "python",
   "pygments_lexer": "ipython3",
   "version": "3.10.2"
  }
 },
 "nbformat": 4,
 "nbformat_minor": 5
}
